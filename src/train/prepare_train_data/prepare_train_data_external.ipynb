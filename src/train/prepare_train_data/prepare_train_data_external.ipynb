{
 "cells": [
  {
   "cell_type": "code",
   "execution_count": 4,
   "metadata": {},
   "outputs": [],
   "source": [
    "import os\n",
    "import json\n",
    "import ffmpeg\n",
    "import matplotlib.pyplot as plt\n",
    "import numpy as np\n",
    "from PIL import Image\n",
    "from tqdm import tqdm\n",
    "from os.path import join as osp \n",
    "\n",
    "mapper = {\n",
    "    \"0\":\"prerecognition\",\n",
    "    \"1\":\"recognition\",\n",
    "    \"2\":\"judgement\",\n",
    "    \"3\":\"action\",\n",
    "    \"4\":\"avoidance\"\n",
    "    }"
   ]
  },
  {
   "cell_type": "code",
   "execution_count": 7,
   "metadata": {},
   "outputs": [
    {
     "ename": "FileNotFoundError",
     "evalue": "[Errno 2] No such file or directory: '/home/server1-ailab/Desktop/Khai/CVPRW/wts_dataset_zip/external/BDD_PC_5K/videos/train'",
     "output_type": "error",
     "traceback": [
      "\u001b[0;31m---------------------------------------------------------------------------\u001b[0m",
      "\u001b[0;31mFileNotFoundError\u001b[0m                         Traceback (most recent call last)",
      "Cell \u001b[0;32mIn[7], line 8\u001b[0m\n\u001b[1;32m      6\u001b[0m bbox_anno_root \u001b[38;5;241m=\u001b[39m osp(anno_root, \u001b[38;5;124mf\u001b[39m\u001b[38;5;124m'\u001b[39m\u001b[38;5;124mbbox_annotated/\u001b[39m\u001b[38;5;132;01m{\u001b[39;00m\u001b[38;5;28mtype\u001b[39m\u001b[38;5;132;01m}\u001b[39;00m\u001b[38;5;124m'\u001b[39m)\n\u001b[1;32m      7\u001b[0m output_dir \u001b[38;5;241m=\u001b[39m \u001b[38;5;124m'\u001b[39m\u001b[38;5;124m/home/server1-ailab/Desktop/Khai/CVPRW/extract_frames/frames_train\u001b[39m\u001b[38;5;124m'\u001b[39m\n\u001b[0;32m----> 8\u001b[0m video_paths \u001b[38;5;241m=\u001b[39m \u001b[38;5;28msorted\u001b[39m(\u001b[43mos\u001b[49m\u001b[38;5;241;43m.\u001b[39;49m\u001b[43mlistdir\u001b[49m\u001b[43m(\u001b[49m\u001b[43mvideo_root\u001b[49m\u001b[43m)\u001b[49m, key\u001b[38;5;241m=\u001b[39m\u001b[38;5;28;01mlambda\u001b[39;00m x: \u001b[38;5;28mint\u001b[39m(x[\u001b[38;5;241m5\u001b[39m:][:\u001b[38;5;241m-\u001b[39m\u001b[38;5;241m4\u001b[39m]))\n",
      "\u001b[0;31mFileNotFoundError\u001b[0m: [Errno 2] No such file or directory: '/home/server1-ailab/Desktop/Khai/CVPRW/wts_dataset_zip/external/BDD_PC_5K/videos/train'"
     ]
    }
   ],
   "source": [
    "type = 'train'\n",
    "root = '/home/server1-ailab/Desktop/Khai/CVPRW/wts_dataset_zip/external/BDD_PC_5K'\n",
    "anno_root = osp(root, 'annotations')\n",
    "video_root = osp(root, f'videos/{type}')\n",
    "caption_anno_root = osp(anno_root, f'caption/{type}')\n",
    "bbox_anno_root = osp(anno_root, f'bbox_annotated/{type}')\n",
    "output_dir = '/home/server1-ailab/Desktop/Khai/CVPRW/extract_frames/frames_train'\n",
    "video_paths = sorted(os.listdir(video_root), key=lambda x: int(x[5:][:-4]))"
   ]
  },
  {
   "cell_type": "code",
   "execution_count": null,
   "metadata": {},
   "outputs": [],
   "source": []
  }
 ],
 "metadata": {
  "kernelspec": {
   "display_name": "cvprw24",
   "language": "python",
   "name": "python3"
  },
  "language_info": {
   "codemirror_mode": {
    "name": "ipython",
    "version": 3
   },
   "file_extension": ".py",
   "mimetype": "text/x-python",
   "name": "python",
   "nbconvert_exporter": "python",
   "pygments_lexer": "ipython3",
   "version": "3.10.14"
  }
 },
 "nbformat": 4,
 "nbformat_minor": 2
}
