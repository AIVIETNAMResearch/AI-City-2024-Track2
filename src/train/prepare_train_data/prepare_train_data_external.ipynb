{
 "cells": [
  {
   "cell_type": "code",
   "execution_count": null,
   "metadata": {},
   "outputs": [],
   "source": [
    "f'''Picture 1: <img>{image_path}</img>\n",
    "As a driver, you are viewing from a third-person perspective of your vehicle. The above picture is taken by the camera in front of your vehicle. Your task is to judge the attention and action of the pedestrian in the bbox <ref>the pedestrian</ref><box>{bbox_prompt}</box> to vehicle arround by doing the request in the instruction part below the word \"# Instruction\".\n",
    "# Instruction:\n",
    "Generate step-by-step question to get claim about the attention and action of pedestrian is in the {phase} phase of awareness about the vehicle. Your question MUST be include 4 type of question to claim about the attention of the pedestrian include: appearance of the pestrian, the location of the pedestrian, the environment arroud, the attention of the pedestrian, and the action of the pedestrian (optional). You MUST give your answer in the following format:\n",
    "1. question\n",
    "2. question\n",
    "3. question\n",
    "...\n",
    "# Answer:\n",
    "'''"
   ]
  },
  {
   "cell_type": "code",
   "execution_count": null,
   "metadata": {},
   "outputs": [],
   "source": []
  },
  {
   "cell_type": "code",
   "execution_count": null,
   "metadata": {},
   "outputs": [],
   "source": [
    "query1 = tokenizer.from_list_format([\n",
    "                                {'image': image_path},\n",
    "                                {'text': \"As a driver, you are viewing from a third-person perspective of your vehicle. Your task is to create a comprehensive caption that encapsulates the scene involving \"},\n",
    "                                {'ref': \"the pedestrian\", 'box': bbox},\n",
    "                                {'text': f''' and your vehicle. Integrate the following elements into your description:\n",
    "1. Pedestrian's Appearance: {information_dict_data['appearance']}\n",
    "2. Surrounding Environment: {information_dict_data['environment']}\n",
    "3. Relative location and distance between the pedestrian and your vehicle: {information_dict_data['location']}\n",
    "4. The attention, visibility, and action of the pedestrian: {information_dict_data['attention']}\n",
    "Your caption should provide a clear and detailed picture of the scene, combining all these elements into a cohesive narrative.'''},\n",
    "                            ])"
   ]
  },
  {
   "cell_type": "code",
   "execution_count": null,
   "metadata": {},
   "outputs": [],
   "source": [
    "model.generation_config = GenerationConfig(\n",
    "        temperature=0.8,\n",
    "        top_p=0.85,\n",
    "        num_beams=3,\n",
    "        top_k=5,\n",
    "        do_sample=True\n",
    "    ).from_pretrained(\n",
    "    \"Qwen/Qwen-VL-Chat\", trust_remote_code=True\n",
    ")"
   ]
  }
 ],
 "metadata": {
  "language_info": {
   "name": "python"
  }
 },
 "nbformat": 4,
 "nbformat_minor": 2
}
